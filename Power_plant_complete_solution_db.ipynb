{
  "nbformat": 4,
  "nbformat_minor": 0,
  "metadata": {
    "colab": {
      "name": "Power_plant_complete_solution_db.ipynb",
      "provenance": []
    },
    "kernelspec": {
      "name": "python3",
      "display_name": "Python 3"
    }
  },
  "cells": [
    {
      "cell_type": "code",
      "metadata": {
        "id": "lR2hQyi01jvY",
        "colab_type": "code",
        "colab": {}
      },
      "source": [
        "!pip install ppscore\n",
        "!pip install feature_selector\n",
        "!pip install catboost\n",
        "!pip install sweetviz\n",
        "!pip install --upgrade pandas\n",
        "!pip install --upgrade numpy\n",
        "!pip install -U scikit-learn==0.21\n",
        "!pip install scikit-optimize\n"
      ],
      "execution_count": null,
      "outputs": []
    },
    {
      "cell_type": "code",
      "metadata": {
        "id": "4M9NSRaR1tMn",
        "colab_type": "code",
        "colab": {
          "base_uri": "https://localhost:8080/",
          "height": 34
        },
        "outputId": "b4a01434-85ce-44f6-e9b6-0d597ce63558"
      },
      "source": [
        "import numpy as np\n",
        "import pandas as pd\n",
        "from mlxtend.feature_selection import ColumnSelector\n",
        "import ppscore as pps\n",
        "from time import time\n",
        "from IPython.display import clear_output\n",
        "import matplotlib.pyplot as plt\n",
        "%matplotlib inline\n",
        "from sklearn.feature_selection import SelectFromModel\n",
        "from sklearn.model_selection import KFold, cross_val_score\n",
        "import seaborn as sns\n",
        "from sklearn.metrics import mean_squared_error \n",
        "from google.colab import files\n",
        "from sklearn.model_selection import KFold, train_test_split,StratifiedKFold\n",
        "from catboost import CatBoostRegressor\n",
        "from lightgbm import plot_importance,LGBMRegressor\n",
        "import warnings\n",
        "import sklearn as sk\n",
        "from scipy import stats\n",
        "import numpy as np\n",
        "import re\n",
        "from mlxtend.regressor import StackingCVRegressor\n",
        "from sklearn.linear_model import ElasticNet, Lasso\n",
        "import warnings\n",
        "from google.colab import files\n",
        "import featuretools as ft\n",
        "import featuretools.variable_types as vtypes\n",
        "from google.colab import drive\n",
        "\n",
        "warnings.filterwarnings('ignore')\n",
        "drive.mount(\"/GD\")\n"
      ],
      "execution_count": 8,
      "outputs": [
        {
          "output_type": "stream",
          "text": [
            "Drive already mounted at /GD; to attempt to forcibly remount, call drive.mount(\"/GD\", force_remount=True).\n"
          ],
          "name": "stdout"
        }
      ]
    },
    {
      "cell_type": "code",
      "metadata": {
        "id": "h5okeen0Dpa1",
        "colab_type": "code",
        "colab": {}
      },
      "source": [
        "###CHANGE THE ADRESS HERE############################\n",
        "df_train = pd.read_csv(\"/GD/My Drive/power/Train.csv\")\n",
        "df_test = pd.read_csv(\"/GD/My Drive/power/Test.csv\")\n",
        "#####################################################"
      ],
      "execution_count": null,
      "outputs": []
    },
    {
      "cell_type": "code",
      "metadata": {
        "id": "0LmmXudeDrSn",
        "colab_type": "code",
        "colab": {
          "base_uri": "https://localhost:8080/",
          "height": 51
        },
        "outputId": "8a62c6cf-4c78-4dc5-c52c-c1553088efd8"
      },
      "source": [
        "#IDENTIFYING DUPLICATES IN THE DATASET\n",
        "print('No. of duplicates in train: '+str(len(df_train)-len(df_train.drop(['PE'],axis=1).drop_duplicates())))\n",
        "print('No. of duplicates in test: '+str(len(df_test)-len(df_test.drop_duplicates())))"
      ],
      "execution_count": 27,
      "outputs": [
        {
          "output_type": "stream",
          "text": [
            "No. of duplicates in train: 3110\n",
            "No. of duplicates in test: 28750\n"
          ],
          "name": "stdout"
        }
      ]
    },
    {
      "cell_type": "code",
      "metadata": {
        "id": "uU4fi22R16LU",
        "colab_type": "code",
        "colab": {}
      },
      "source": [
        "\n",
        "#WITH THESE MANY DUPLICATES IN TRAIN AND TEST, CHANCES ARE SOME OF THEM WILL BE EXACTLY SAME.\n",
        "#SO WE ARE JUST MANUALLY IMPUTING THOSE VALUES BY TAKING MEAN FROM TRAIN AND WILL PREDICT FOR THE REST OF THE DATA\n",
        "df_test['key']=df_test[['AT', 'V', 'AP', 'RH']].apply(lambda x: '_'.join(x.astype('str')), axis = 1)\n",
        "df_train['key']=df_train[['AT', 'V', 'AP', 'RH']].apply(lambda x: '_'.join(x.astype('str')), axis = 1)\n",
        "df=pd.DataFrame(df_train.groupby(['key'],as_index=False)['PE'].mean())\n",
        "df=df.reset_index()\n",
        "encode = dict(zip(df.key, df.PE))\n",
        "df_test['PE']=df_test.key.map(encode)\n",
        "#THERE ARE ABOUT 15-20K DUPLICATES IN TEST WHICH EXACTLY RESEMBLE THOSE IN TRAIN. \n",
        "df_test2=df_test[np.isnan(df_test.PE)].drop(['PE'],axis=1)\n",
        "df_train2=df_train.drop(['PE'],axis=1).drop_duplicates()\n",
        "encode = dict(zip(df_train.key, df_train.PE))\n",
        "df_train2['PE']=df_train2.key.map(encode)\n",
        "df_train2.drop(['key'],axis=1,inplace=True)\n",
        "df_train.drop(['key'],axis=1,inplace=True)\n",
        "df_test2['is_what']='test'\n",
        "df_train2['is_what']='train'\n",
        "#COMBINING TRAING AND TEST FOR AUTOMATED FEATURETOOLS\n",
        "feats=df_train2.drop(['PE'],axis=1).append(df_test2.drop(['key'],axis=1))\n",
        "Y=df_train2['PE']\n"
      ],
      "execution_count": 2,
      "outputs": []
    },
    {
      "cell_type": "code",
      "metadata": {
        "id": "k39FpgkC2xtm",
        "colab_type": "code",
        "colab": {
          "base_uri": "https://localhost:8080/",
          "height": 487
        },
        "outputId": "cf0095f9-d2bb-4ce2-d114-56b910cbedcf"
      },
      "source": [
        "#Tree based relationships\n",
        "df=pps.matrix(df_train2.drop(['is_what'],axis=1))\n",
        "fig, ax = plt.subplots(figsize=(8,8)) \n",
        "# sns.set(font_scale=1.3)\n",
        "g=sns.heatmap(df, vmin=0, vmax=1, cmap=\"Reds\", linewidths=3, annot=True,ax=ax,annot_kws={\"fontsize\":10})\n",
        "\n",
        "#AT and V seems to be the most important in explainaing target"
      ],
      "execution_count": 6,
      "outputs": [
        {
          "output_type": "display_data",
          "data": {
            "image/png": "[encoded data removed]",
            "text/plain": [
              "<Figure size 576x576 with 2 Axes>"
            ]
          },
          "metadata": {
            "tags": [],
            "needs_background": "light"
          }
        }
      ]
    },
    {
      "cell_type": "code",
      "metadata": {
        "id": "fJghNm1u3Y8N",
        "colab_type": "code",
        "colab": {
          "base_uri": "https://localhost:8080/",
          "height": 374
        },
        "outputId": "49246fcb-e59a-4b4a-a99d-2057eb07ed8a"
      },
      "source": [
        "corr=df.corr()\n",
        "mask = np.triu(np.ones_like(corr, dtype=np.bool))\n",
        "plt.figure(figsize=(6,6))\n",
        "sns.heatmap(corr,vmin=-1,cmap='coolwarm',annot=True,mask=mask);\n",
        "#no collinearity found. linear models will perform well here but i sadly didn have the time to explore them\n",
        "#FOR IMPROVEMENT I STRONGLY SUGGEST CREATING A TARGET MIMIC COLUMN BASED ON KFOLDED PREDICTIONS WITH A LINEAR MODEL "
      ],
      "execution_count": 9,
      "outputs": [
        {
          "output_type": "display_data",
          "data": {
            "image/png": "[encoded data removed]",
            "text/plain": [
              "<Figure size 432x432 with 2 Axes>"
            ]
          },
          "metadata": {
            "tags": [],
            "needs_background": "light"
          }
        }
      ]
    },
    {
      "cell_type": "code",
      "metadata": {
        "id": "hx7rgOQ46agy",
        "colab_type": "code",
        "colab": {
          "base_uri": "https://localhost:8080/",
          "height": 282
        },
        "outputId": "4440752d-8c43-4bc3-9aa7-ad48a87f2026"
      },
      "source": [
        "df_train2.boxplot(column='AT')"
      ],
      "execution_count": 11,
      "outputs": [
        {
          "output_type": "execute_result",
          "data": {
            "text/plain": [
              "<AxesSubplot:>"
            ]
          },
          "metadata": {
            "tags": []
          },
          "execution_count": 11
        },
        {
          "output_type": "display_data",
          "data": {
            "image/png": "[encoded data removed]",
            "text/plain": [
              "<Figure size 432x288 with 1 Axes>"
            ]
          },
          "metadata": {
            "tags": [],
            "needs_background": "light"
          }
        }
      ]
    },
    {
      "cell_type": "code",
      "metadata": {
        "id": "UX0JdlTa6iPD",
        "colab_type": "code",
        "colab": {
          "base_uri": "https://localhost:8080/",
          "height": 282
        },
        "outputId": "7192df1f-125a-4f90-8d37-38b8c290cad4"
      },
      "source": [
        "df_test2.drop_duplicates().boxplot(column='AT')"
      ],
      "execution_count": 12,
      "outputs": [
        {
          "output_type": "execute_result",
          "data": {
            "text/plain": [
              "<AxesSubplot:>"
            ]
          },
          "metadata": {
            "tags": []
          },
          "execution_count": 12
        },
        {
          "output_type": "display_data",
          "data": {
            "image/png": "[encoded data removed]",
            "text/plain": [
              "<Figure size 432x288 with 1 Axes>"
            ]
          },
          "metadata": {
            "tags": [],
            "needs_background": "light"
          }
        }
      ]
    },
    {
      "cell_type": "code",
      "metadata": {
        "id": "SklcSJu_7DUf",
        "colab_type": "code",
        "colab": {
          "base_uri": "https://localhost:8080/",
          "height": 298
        },
        "outputId": "4aeb285a-7196-4bf1-bc45-83506d9365b4"
      },
      "source": [
        "df_train2.hist(column='PE')\n",
        "#no need to normalize target\n",
        "#similar to bimodal distribution "
      ],
      "execution_count": 13,
      "outputs": [
        {
          "output_type": "execute_result",
          "data": {
            "text/plain": [
              "array([[<AxesSubplot:title={'center':'PE'}>]], dtype=object)"
            ]
          },
          "metadata": {
            "tags": []
          },
          "execution_count": 13
        },
        {
          "output_type": "display_data",
          "data": {
            "image/png": "[encoded data removed]",
            "text/plain": [
              "<Figure size 432x288 with 1 Axes>"
            ]
          },
          "metadata": {
            "tags": [],
            "needs_background": "light"
          }
        }
      ]
    },
    {
      "cell_type": "code",
      "metadata": {
        "id": "Dw7d5ZxA3zu4",
        "colab_type": "code",
        "colab": {}
      },
      "source": [
        "#AUTOMATED FEATURE ENGINEERING, WITH SO LESS FEATURES PRESENT AND MY LACK OF DOMAIN KNOWLEDGE ITS BETTER TO USE THIS . \n",
        "#REMEMBER THIS IS NO REPLACEMENT FOR PEOPLE WHO ACTUALLY KNOW THE DOMAIN AND CREATE RELEVANT FEATURES RELATED TO THERMODYNAMICS\n",
        "#VERY HIGH AMOUNT OF TIME NEEDED FOR FEATURE SELECTION AFTER CREATING THESE MANY FEATURES TO IDENTIFY THE BEST. NOT FEASIBLE FOR LARGER DATASETS\n",
        "df2=feats\n",
        "es = ft.EntitySet(id = 'power')\n",
        "variable_types = { 'is_what': vtypes.Categorical\n",
        "                  }\n",
        "es.entity_from_dataframe(entity_id = 'data', dataframe = df2, \n",
        "                         make_index = True, index = 'index',variable_types=variable_types)\n",
        "feature_matrix, feature_list = ft.dfs(entityset = es, target_entity = 'data',\n",
        "                                      trans_primitives = ['percentile','divide','multiply'],max_depth=3\n",
        "                                      )\n",
        "main2=feature_matrix\n",
        "TEST=main2[main2['is_what']=='test'].drop(['is_what'],axis=1)\n",
        "TRAIN=main2[main2['is_what']=='train'].drop(['is_what'],axis=1)"
      ],
      "execution_count": 3,
      "outputs": []
    },
    {
      "cell_type": "code",
      "metadata": {
        "id": "WGJaeJWq4OVV",
        "colab_type": "code",
        "colab": {}
      },
      "source": [
        "lgbmcols=['AP / V * PERCENTILE(V) / V', 'V', 'PERCENTILE(AP) * PERCENTILE(V)',\n",
        "       'AT * RH', 'AT', 'PERCENTILE(AP) / RH * PERCENTILE(V) / AP',\n",
        "       'PERCENTILE(AP) / V', 'V / PERCENTILE(V)']\n",
        "catcols=['AT', 'AP / V * PERCENTILE(V) / V', 'V', 'V / PERCENTILE(V)', 'AT * RH',\n",
        "       'PERCENTILE(AP) / V * PERCENTILE(V) / V', 'AP / AT * AP / RH',\n",
        "       'PERCENTILE(AP) / RH * PERCENTILE(V) / AP']\n",
        "imp_columns=['AP / V * PERCENTILE(V) / V', 'V', 'PERCENTILE(AP) * PERCENTILE(V)',\n",
        "       'AT * RH', 'AT', 'PERCENTILE(AP) / RH * PERCENTILE(V) / AP',\n",
        "       'PERCENTILE(AP) / V', 'V / PERCENTILE(V)','AT', 'AP / V * PERCENTILE(V) / V', 'V', 'V / PERCENTILE(V)', 'AT * RH',\n",
        "       'PERCENTILE(AP) / V * PERCENTILE(V) / V', 'AP / AT * AP / RH',\n",
        "       'PERCENTILE(AP) / RH * PERCENTILE(V) / AP']\n",
        "IMP_COLUMNS2=list(set(imp_columns))\n",
        "TRAIN_FINAL=TRAIN[IMP_COLUMNS2]\n",
        "TEST_FINAL=TEST[IMP_COLUMNS2]\n",
        "cb = CatBoostRegressor(bagging_temperature=1.0, verbose=0,\n",
        "border_count=255,depth=8,iterations=4000,l2_leaf_reg=2,learning_rate=0.05207083574210583,random_strength=1e-09)\n",
        "lgbm=LGBMRegressor(n_estimators=800,learning_rate=0.1)\n",
        "stack = StackingCVRegressor(regressors=[cb,lgbm], \n",
        "                           meta_regressor=ElasticNet(alpha=0.001, l1_ratio=0.3))"
      ],
      "execution_count": 9,
      "outputs": []
    },
    {
      "cell_type": "code",
      "metadata": {
        "id": "jlcVteWP4Caw",
        "colab_type": "code",
        "colab": {
          "base_uri": "https://localhost:8080/",
          "height": 690
        },
        "outputId": "85eb23a3-0093-4655-e420-56cb3dff1310"
      },
      "source": [
        "#Tree based relationships\n",
        "TRAIN_FINAL2=TRAIN_FINAL\n",
        "TRAIN_FINAL2['PE']=Y.values\n",
        "df=pps.matrix(TRAIN_FINAL2)\n",
        "fig, ax = plt.subplots(figsize=(8,8)) \n",
        "# sns.set(font_scale=1.3)\n",
        "g=sns.heatmap(df, vmin=0, vmax=1, cmap=\"Reds\", linewidths=3, annot=True,ax=ax,annot_kws={\"fontsize\":10})\n",
        "\n",
        "#we have managed to create few more significant variables with automated feat engineering"
      ],
      "execution_count": 6,
      "outputs": [
        {
          "output_type": "display_data",
          "data": {
            "image/png": "[encoded data removed]",
            "text/plain": [
              "<Figure size 576x576 with 2 Axes>"
            ]
          },
          "metadata": {
            "tags": [],
            "needs_background": "light"
          }
        }
      ]
    },
    {
      "cell_type": "code",
      "metadata": {
        "id": "AJ1EMtW_7g1e",
        "colab_type": "code",
        "colab": {
          "base_uri": "https://localhost:8080/",
          "height": 331
        },
        "outputId": "60d25fdc-cf4a-4652-f15c-7a327da53e2c"
      },
      "source": [
        "TRAIN_FINAL.describe()"
      ],
      "execution_count": 14,
      "outputs": [
        {
          "output_type": "execute_result",
          "data": {
            "text/html": [
              "<div>\n",
              "<style scoped>\n",
              "    .dataframe tbody tr th:only-of-type {\n",
              "        vertical-align: middle;\n",
              "    }\n",
              "\n",
              "    .dataframe tbody tr th {\n",
              "        vertical-align: top;\n",
              "    }\n",
              "\n",
              "    .dataframe thead th {\n",
              "        text-align: right;\n",
              "    }\n",
              "</style>\n",
              "<table border=\"1\" class=\"dataframe\">\n",
              "  <thead>\n",
              "    <tr style=\"text-align: right;\">\n",
              "      <th></th>\n",
              "      <th>V / PERCENTILE(V)</th>\n",
              "      <th>PERCENTILE(AP) * PERCENTILE(V)</th>\n",
              "      <th>PERCENTILE(AP) / V * PERCENTILE(V) / V</th>\n",
              "      <th>AT</th>\n",
              "      <th>AP / V * PERCENTILE(V) / V</th>\n",
              "      <th>PERCENTILE(AP) / RH * PERCENTILE(V) / AP</th>\n",
              "      <th>AP / AT * AP / RH</th>\n",
              "      <th>AT * RH</th>\n",
              "      <th>V</th>\n",
              "      <th>PERCENTILE(AP) / V</th>\n",
              "    </tr>\n",
              "  </thead>\n",
              "  <tbody>\n",
              "    <tr>\n",
              "      <th>count</th>\n",
              "      <td>6458.000000</td>\n",
              "      <td>6458.000000</td>\n",
              "      <td>6.458000e+03</td>\n",
              "      <td>6458.000000</td>\n",
              "      <td>6458.000000</td>\n",
              "      <td>6.458000e+03</td>\n",
              "      <td>6458.000000</td>\n",
              "      <td>6458.000000</td>\n",
              "      <td>6458.000000</td>\n",
              "      <td>6458.000000</td>\n",
              "    </tr>\n",
              "    <tr>\n",
              "      <th>mean</th>\n",
              "      <td>320.279630</td>\n",
              "      <td>0.219275</td>\n",
              "      <td>7.257078e-05</td>\n",
              "      <td>19.656499</td>\n",
              "      <td>0.151492</td>\n",
              "      <td>3.189050e-06</td>\n",
              "      <td>872.762136</td>\n",
              "      <td>1382.795233</td>\n",
              "      <td>54.350430</td>\n",
              "      <td>0.010393</td>\n",
              "    </tr>\n",
              "    <tr>\n",
              "      <th>std</th>\n",
              "      <td>2116.604273</td>\n",
              "      <td>0.160290</td>\n",
              "      <td>4.721430e-05</td>\n",
              "      <td>7.441464</td>\n",
              "      <td>0.047762</td>\n",
              "      <td>2.674294e-06</td>\n",
              "      <td>441.929236</td>\n",
              "      <td>472.728028</td>\n",
              "      <td>12.680831</td>\n",
              "      <td>0.007071</td>\n",
              "    </tr>\n",
              "    <tr>\n",
              "      <th>min</th>\n",
              "      <td>76.837349</td>\n",
              "      <td>0.000058</td>\n",
              "      <td>3.400390e-08</td>\n",
              "      <td>2.340000</td>\n",
              "      <td>0.000575</td>\n",
              "      <td>8.762123e-10</td>\n",
              "      <td>382.988552</td>\n",
              "      <td>163.051200</td>\n",
              "      <td>25.360000</td>\n",
              "      <td>0.000007</td>\n",
              "    </tr>\n",
              "    <tr>\n",
              "      <th>25%</th>\n",
              "      <td>88.170400</td>\n",
              "      <td>0.082008</td>\n",
              "      <td>3.120300e-05</td>\n",
              "      <td>13.550000</td>\n",
              "      <td>0.147574</td>\n",
              "      <td>1.104172e-06</td>\n",
              "      <td>583.996904</td>\n",
              "      <td>1014.820350</td>\n",
              "      <td>41.760000</td>\n",
              "      <td>0.004336</td>\n",
              "    </tr>\n",
              "    <tr>\n",
              "      <th>50%</th>\n",
              "      <td>104.916257</td>\n",
              "      <td>0.196131</td>\n",
              "      <td>6.831122e-05</td>\n",
              "      <td>20.370000</td>\n",
              "      <td>0.171926</td>\n",
              "      <td>2.558165e-06</td>\n",
              "      <td>733.638395</td>\n",
              "      <td>1397.638450</td>\n",
              "      <td>52.540000</td>\n",
              "      <td>0.009410</td>\n",
              "    </tr>\n",
              "    <tr>\n",
              "      <th>75%</th>\n",
              "      <td>164.938392</td>\n",
              "      <td>0.321696</td>\n",
              "      <td>1.100254e-04</td>\n",
              "      <td>25.710000</td>\n",
              "      <td>0.176726</td>\n",
              "      <td>4.594432e-06</td>\n",
              "      <td>1017.163547</td>\n",
              "      <td>1748.258700</td>\n",
              "      <td>66.540000</td>\n",
              "      <td>0.015745</td>\n",
              "    </tr>\n",
              "    <tr>\n",
              "      <th>max</th>\n",
              "      <td>69163.060000</td>\n",
              "      <td>0.795566</td>\n",
              "      <td>1.897883e-04</td>\n",
              "      <td>37.110000</td>\n",
              "      <td>0.201300</td>\n",
              "      <td>2.539635e-05</td>\n",
              "      <td>6487.229416</td>\n",
              "      <td>2647.989600</td>\n",
              "      <td>81.560000</td>\n",
              "      <td>0.028519</td>\n",
              "    </tr>\n",
              "  </tbody>\n",
              "</table>\n",
              "</div>"
            ],
            "text/plain": [
              "       V / PERCENTILE(V)  ...  PERCENTILE(AP) / V\n",
              "count        6458.000000  ...         6458.000000\n",
              "mean          320.279630  ...            0.010393\n",
              "std          2116.604273  ...            0.007071\n",
              "min            76.837349  ...            0.000007\n",
              "25%            88.170400  ...            0.004336\n",
              "50%           104.916257  ...            0.009410\n",
              "75%           164.938392  ...            0.015745\n",
              "max         69163.060000  ...            0.028519\n",
              "\n",
              "[8 rows x 10 columns]"
            ]
          },
          "metadata": {
            "tags": []
          },
          "execution_count": 14
        }
      ]
    },
    {
      "cell_type": "code",
      "metadata": {
        "id": "KmMgm_UZ7lJm",
        "colab_type": "code",
        "colab": {
          "base_uri": "https://localhost:8080/",
          "height": 348
        },
        "outputId": "956eb239-771f-44b0-c638-2d790a3623e6"
      },
      "source": [
        "TEST_FINAL.describe()"
      ],
      "execution_count": 15,
      "outputs": [
        {
          "output_type": "execute_result",
          "data": {
            "text/html": [
              "<div>\n",
              "<style scoped>\n",
              "    .dataframe tbody tr th:only-of-type {\n",
              "        vertical-align: middle;\n",
              "    }\n",
              "\n",
              "    .dataframe tbody tr th {\n",
              "        vertical-align: top;\n",
              "    }\n",
              "\n",
              "    .dataframe thead th {\n",
              "        text-align: right;\n",
              "    }\n",
              "</style>\n",
              "<table border=\"1\" class=\"dataframe\">\n",
              "  <thead>\n",
              "    <tr style=\"text-align: right;\">\n",
              "      <th></th>\n",
              "      <th>V / PERCENTILE(V)</th>\n",
              "      <th>PERCENTILE(AP) * PERCENTILE(V)</th>\n",
              "      <th>PERCENTILE(AP) / V * PERCENTILE(V) / V</th>\n",
              "      <th>AT</th>\n",
              "      <th>AP / V * PERCENTILE(V) / V</th>\n",
              "      <th>PERCENTILE(AP) / RH * PERCENTILE(V) / AP</th>\n",
              "      <th>AP / AT * AP / RH</th>\n",
              "      <th>AT * RH</th>\n",
              "      <th>V</th>\n",
              "      <th>PERCENTILE(AP) / V</th>\n",
              "    </tr>\n",
              "  </thead>\n",
              "  <tbody>\n",
              "    <tr>\n",
              "      <th>count</th>\n",
              "      <td>15360.000000</td>\n",
              "      <td>15360.000000</td>\n",
              "      <td>1.536000e+04</td>\n",
              "      <td>15360.000000</td>\n",
              "      <td>15360.000000</td>\n",
              "      <td>1.536000e+04</td>\n",
              "      <td>15360.000000</td>\n",
              "      <td>15360.000000</td>\n",
              "      <td>15360.000000</td>\n",
              "      <td>15360.000000</td>\n",
              "    </tr>\n",
              "    <tr>\n",
              "      <th>mean</th>\n",
              "      <td>335.142538</td>\n",
              "      <td>0.212629</td>\n",
              "      <td>7.060568e-05</td>\n",
              "      <td>19.663880</td>\n",
              "      <td>0.151050</td>\n",
              "      <td>3.126859e-06</td>\n",
              "      <td>874.043141</td>\n",
              "      <td>1381.797196</td>\n",
              "      <td>54.183174</td>\n",
              "      <td>0.010219</td>\n",
              "    </tr>\n",
              "    <tr>\n",
              "      <th>std</th>\n",
              "      <td>2076.531150</td>\n",
              "      <td>0.157593</td>\n",
              "      <td>4.696063e-05</td>\n",
              "      <td>7.450696</td>\n",
              "      <td>0.048540</td>\n",
              "      <td>2.715188e-06</td>\n",
              "      <td>444.320183</td>\n",
              "      <td>474.070757</td>\n",
              "      <td>12.705135</td>\n",
              "      <td>0.007113</td>\n",
              "    </tr>\n",
              "    <tr>\n",
              "      <th>min</th>\n",
              "      <td>76.837349</td>\n",
              "      <td>0.000029</td>\n",
              "      <td>1.700195e-08</td>\n",
              "      <td>1.810000</td>\n",
              "      <td>0.000575</td>\n",
              "      <td>3.465746e-10</td>\n",
              "      <td>395.111949</td>\n",
              "      <td>139.315700</td>\n",
              "      <td>25.360000</td>\n",
              "      <td>0.000003</td>\n",
              "    </tr>\n",
              "    <tr>\n",
              "      <th>25%</th>\n",
              "      <td>88.843361</td>\n",
              "      <td>0.077865</td>\n",
              "      <td>2.904441e-05</td>\n",
              "      <td>13.487500</td>\n",
              "      <td>0.144662</td>\n",
              "      <td>1.042706e-06</td>\n",
              "      <td>581.046765</td>\n",
              "      <td>1028.506425</td>\n",
              "      <td>41.660000</td>\n",
              "      <td>0.004176</td>\n",
              "    </tr>\n",
              "    <tr>\n",
              "      <th>50%</th>\n",
              "      <td>104.935903</td>\n",
              "      <td>0.189823</td>\n",
              "      <td>6.610332e-05</td>\n",
              "      <td>20.290000</td>\n",
              "      <td>0.171914</td>\n",
              "      <td>2.490210e-06</td>\n",
              "      <td>735.026527</td>\n",
              "      <td>1397.706000</td>\n",
              "      <td>51.860000</td>\n",
              "      <td>0.008927</td>\n",
              "    </tr>\n",
              "    <tr>\n",
              "      <th>75%</th>\n",
              "      <td>168.306246</td>\n",
              "      <td>0.314732</td>\n",
              "      <td>1.074962e-04</td>\n",
              "      <td>25.720000</td>\n",
              "      <td>0.177158</td>\n",
              "      <td>4.518568e-06</td>\n",
              "      <td>1005.696894</td>\n",
              "      <td>1758.544200</td>\n",
              "      <td>66.490000</td>\n",
              "      <td>0.015377</td>\n",
              "    </tr>\n",
              "    <tr>\n",
              "      <th>max</th>\n",
              "      <td>69163.060000</td>\n",
              "      <td>0.798017</td>\n",
              "      <td>1.894867e-04</td>\n",
              "      <td>34.960000</td>\n",
              "      <td>0.201268</td>\n",
              "      <td>2.627043e-05</td>\n",
              "      <td>7569.604046</td>\n",
              "      <td>2590.242400</td>\n",
              "      <td>80.250000</td>\n",
              "      <td>0.028485</td>\n",
              "    </tr>\n",
              "  </tbody>\n",
              "</table>\n",
              "</div>"
            ],
            "text/plain": [
              "       V / PERCENTILE(V)  ...  PERCENTILE(AP) / V\n",
              "count       15360.000000  ...        15360.000000\n",
              "mean          335.142538  ...            0.010219\n",
              "std          2076.531150  ...            0.007113\n",
              "min            76.837349  ...            0.000003\n",
              "25%            88.843361  ...            0.004176\n",
              "50%           104.935903  ...            0.008927\n",
              "75%           168.306246  ...            0.015377\n",
              "max         69163.060000  ...            0.028485\n",
              "\n",
              "[8 rows x 10 columns]"
            ]
          },
          "metadata": {
            "tags": []
          },
          "execution_count": 15
        }
      ]
    },
    {
      "cell_type": "code",
      "metadata": {
        "id": "xYeTdksi6O2S",
        "colab_type": "code",
        "colab": {
          "base_uri": "https://localhost:8080/",
          "height": 119
        },
        "outputId": "b53f83c6-0c05-4310-fa66-8f7ca8790935"
      },
      "source": [
        "i=0\n",
        "l=[]\n",
        "setused=TRAIN_FINAL\n",
        "scores=[]\n",
        "kfold, scores = KFold(n_splits=5,random_state=True), list()\n",
        "for train2, test2 in kfold.split(setused,Y):\n",
        "    x_train, x_test = setused.values[train2], setused.values[test2]\n",
        "    y_train, y_test = Y.values[train2], Y.values[test2]\n",
        "    ############################## \n",
        "    model = stack\n",
        "    model.fit(x_train, y_train)\n",
        "    preds = model.predict(x_test)\n",
        "    ######################(doesn work with stacking regressor)####\n",
        "    # feature_importances = pd.DataFrame(model.feature_importances_,\n",
        "    #                                    index = setused.columns,\n",
        "    #                                     columns=['importance'])\n",
        "    # sum=feature_importances.values\n",
        "    # l.append(sum)\n",
        "    ##########################3###################################\n",
        "    score = np.sqrt(mean_squared_error(y_test, preds))\n",
        "    scores.append(score)\n",
        "    print(score)\n",
        "print(\"Average: \", np.sum(scores)/len(scores))\n"
      ],
      "execution_count": 24,
      "outputs": [
        {
          "output_type": "stream",
          "text": [
            "3.1117806877322494\n",
            "3.5274959823601693\n",
            "3.1564091641959364\n",
            "3.2292650363926434\n",
            "3.0770726853515717\n",
            "Average:  3.220404711206514\n"
          ],
          "name": "stdout"
        }
      ]
    },
    {
      "cell_type": "code",
      "metadata": {
        "id": "iuolduXu_FWS",
        "colab_type": "code",
        "colab": {
          "base_uri": "https://localhost:8080/",
          "height": 337
        },
        "outputId": "b1f6feea-c70e-4ff3-878c-43aacc5a5609"
      },
      "source": [
        "###this averages out the feature importances of each fold to show us on an average which features are doing better####\n",
        "#selectkbest or simply plotting nlargest may show feature importance from a single fold.\n",
        "#as trees doesn have a fixed structure to build the trees for reducing entropy the features which are preferred on an average by the trees give better pic\n",
        "train_set=setused\n",
        "labels=Y\n",
        "threshold=0.5\n",
        "add=0\n",
        "for item in l:\n",
        "  add+=item\n",
        "df_cv=pd.DataFrame(add/len(l),index=train_set.columns,columns=[\"importance\"]).sort_values('importance', ascending=False)\n",
        "imp_columns=df_cv[df_cv['importance']>threshold].index.tolist()\n",
        "df_cv=df_cv.reset_index()\n",
        "feat_imp = pd.Series(df_cv.importance.values, index=df_cv.drop([\"importance\"], axis=1)).sort_values(axis='index',ascending=False)\n",
        "X2=setused[imp_columns]\n",
        "feat_imp.nlargest(10).plot(kind='barh', figsize=(5,5))\n",
        "len(imp_columns)\n",
        "#this plot is for catboost only"
      ],
      "execution_count": 22,
      "outputs": [
        {
          "output_type": "execute_result",
          "data": {
            "text/plain": [
              "10"
            ]
          },
          "metadata": {
            "tags": []
          },
          "execution_count": 22
        },
        {
          "output_type": "display_data",
          "data": {
            "image/png": "[encoded data removed]",
            "text/plain": [
              "<Figure size 360x360 with 1 Axes>"
            ]
          },
          "metadata": {
            "tags": [],
            "needs_background": "light"
          }
        }
      ]
    },
    {
      "cell_type": "code",
      "metadata": {
        "id": "tQa9BOPLBZzL",
        "colab_type": "code",
        "colab": {}
      },
      "source": [
        "#SUBMISSION MODULE\n",
        "#HERE FIRST THE PREDICTION ON 15K IS DONE AND THEN IT IS ADDED ON TO THE PRE EXISTING TEST SET HAVING SOME OF ITS COMMON VALUES IMPUTED AT BEGINING\n",
        "model2=stack\n",
        "filen='submission.xlsx'\n",
        "X_test = TEST_FINAL\n",
        "model2.fit(TRAIN_FINAL.values,Y.values)\n",
        "y_pred =model2.predict(X_test.values)\n",
        "df_test2['PE']=y_pred\n",
        "encode2 = dict(zip(df_test2.key, df_test2.PE))\n",
        "df1=pd.DataFrame()\n",
        "###THE VALUES WHICH COUDNT BE FOUND EARLIER ARE NOW BEING ADDED BY OUR MODEL######\n",
        "df1['PE']=df_test['PE'].fillna(df_test['key'].map(encode2))\n",
        "df1['PE'].to_excel('/GD/My Drive/power/'+str(filen),index=False)\n",
        "files.download('/GD/My Drive/power/'+str(filen))\n"
      ],
      "execution_count": null,
      "outputs": []
    }
  ]
}